{
  "nbformat": 4,
  "nbformat_minor": 0,
  "metadata": {
    "colab": {
      "provenance": []
    },
    "kernelspec": {
      "name": "python3",
      "display_name": "Python 3"
    },
    "language_info": {
      "name": "python"
    }
  },
  "cells": [
    {
      "cell_type": "code",
      "execution_count": 16,
      "metadata": {
        "id": "Ll8paJZvnj2j",
        "colab": {
          "base_uri": "https://localhost:8080/"
        },
        "outputId": "2d7cf171-6831-4977-a089-7a4e396b3785"
      },
      "outputs": [
        {
          "output_type": "stream",
          "name": "stdout",
          "text": [
            "['https://vod-adaptive-ak.vimeocdn.com/exp=1727041194~acl=%2F54e890a9-e2fb-4808-91a0-40d3ccce3c73%2F%2A~hmac=558cd30680a9716389f2c48c0fc8d80d41e350550055839f315af7e793e62bc5/54e890a9-e2fb-4808-91a0-40d3ccce3c73/v2/playlist/av/primary/playlist.json?omit=av1-hevc&pathsig=8c953e4f~cT_sViFGXaE4VZ2SsrfNNwC6jKN2KiFE_VmozpxUhdI&qsr=1&rh=4cydU8', 'VueSchool', False]\n",
            "['https://vod-adaptive-ak.vimeocdn.com/exp=1727041224~acl=%2F692f58e4-b5dc-4f9b-8dcb-866da519ceda%2F%2A~hmac=2ccfc6eca4c2fe5374d45f9cb5f9c672bb86b4828d6dd092ccc9656af7c2cbe6/692f58e4-b5dc-4f9b-8dcb-866da519ceda/v2/playlist/av/primary/playlist.json?omit=av1-hevc&pathsig=8c953e4f~3uNjPUkou8dv0609dGLIjG1NQRcGyTD0bKeXgNLxEs0&rh=1cWAMv', 'Angular University', False]\n",
            "Downloading VueSchool...\n"
          ]
        },
        {
          "output_type": "stream",
          "name": "stderr",
          "text": [
            "100%|██████████| 33/33 [00:05<00:00,  6.33it/s]\n",
            "100%|██████████| 33/33 [00:05<00:00,  6.28it/s]\n"
          ]
        },
        {
          "output_type": "stream",
          "name": "stdout",
          "text": [
            "\n",
            "Downloading Angular University...\n"
          ]
        },
        {
          "output_type": "stream",
          "name": "stderr",
          "text": [
            "100%|██████████| 57/57 [00:11<00:00,  5.15it/s]\n",
            "100%|██████████| 57/57 [00:08<00:00,  6.76it/s]\n"
          ]
        },
        {
          "output_type": "stream",
          "name": "stdout",
          "text": [
            "\n"
          ]
        }
      ],
      "source": [
        "#@markdown <center><h2><b>Vimeo Video Downloader</b></h2>Download Vimeo videos easy v0.2</center><br>\n",
        "#@markdown <center>Authored by: limontec (https://github.com/limontec)<br />Modified by: Bartek20 (https://github.com/Bartek20)</center>\n",
        "\n",
        "import os\n",
        "import sys\n",
        "import base64\n",
        "import requests\n",
        "import subprocess\n",
        "from google.colab import files\n",
        "from tqdm import tqdm\n",
        "\n",
        "class VimeoDownloader:\n",
        "  def __init__(self, url, filename):\n",
        "    if 'master.json' in url:\n",
        "      url = url[:url.find('?')] + '?query_string_ranges=1'\n",
        "      url = url.replace('master.json', 'master.mpd')\n",
        "    self.url = url\n",
        "    if not filename.endswith('.mp4'):\n",
        "      filename += '.mp4'\n",
        "    self.filename = filename\n",
        "  def save(self):\n",
        "    try:\n",
        "      files.download(self.filename)\n",
        "      print(\"If download does not start, download the file manually from the directory in the left corner.\")\n",
        "    except FileNotFoundError:\n",
        "      print(\"File not found!\")\n",
        "    except:\n",
        "      print(\"Something else went wrong, try download manually\")\n",
        "  def fetch(self, what, to, base):\n",
        "    with open(to, 'wb') as file:\n",
        "      init_segment = base64.b64decode(what['init_segment'])\n",
        "      file.write(init_segment)\n",
        "      for segment in tqdm(what['segments']):\n",
        "        segment_url = base + segment['url']\n",
        "        resp = requests.get(segment_url, stream=True)\n",
        "        if resp.status_code != 200:\n",
        "          print('Segment not found:', segment_url)\n",
        "          break\n",
        "        for chunk in resp:\n",
        "            file.write(chunk)\n",
        "  def download(self):\n",
        "    if 'master.mpd' in self.url:\n",
        "      subprocess.run(['youtube-dl', self.url, '-o', self.filename])\n",
        "      return\n",
        "    base_url = self.url[:self.url.rfind('/', 0, -26) + 1]\n",
        "    content = requests.get(self.url).json()\n",
        "    vid_heights = [(i, d['height']) for (i, d) in enumerate(content['video'])]\n",
        "    vid_idx, _ = max(vid_heights, key=lambda _h: _h[1])\n",
        "    audio_quality = [(i, d['bitrate']) for (i, d) in enumerate(content['audio'])]\n",
        "    audio_idx, _ = max(audio_quality, key=lambda _h: _h[1])\n",
        "    video = content['video'][vid_idx]\n",
        "    audio = content['audio'][audio_idx]\n",
        "    base_url = base_url + content['base_url']\n",
        "    video_tmp_file = 'video.mp4'\n",
        "    audio_tmp_file = 'audio.mp4'\n",
        "    self.fetch(video, video_tmp_file, base_url + video['base_url'])\n",
        "    self.fetch(audio, audio_tmp_file, base_url + audio['base_url'])\n",
        "    command = [\"ffmpeg\", \"-i\", audio_tmp_file, \"-i\", video_tmp_file, \"-c\", \"copy\", self.filename]\n",
        "    try:\n",
        "      result = subprocess.run(command, capture_output=True, text=True, check=True)\n",
        "      print(result.stdout)\n",
        "    except subprocess.CalledProcessError as e:\n",
        "      print(f\"Error: {e}\")\n",
        "      print(f\"Output error: {e.stderr}\")\n",
        "    os.remove(video_tmp_file)\n",
        "    os.remove(audio_tmp_file)\n",
        "\n",
        "\n",
        "# @markdown ---\n",
        "# @markdown \\* SINGLE mode -> Download single video\n",
        "# @markdown \\* PLAYLIST mode -> Download multiple videos from data.txt file\n",
        "# @markdown data.txt syntax (every line is new entry)\n",
        "# @markdown DATA_URL;OUTPUT_FILENAME;SAVE_TO_PC\n",
        "DOWNLOAD_MODE = \"PLAYLIST\" #@param [\"SINGLE\", \"PLAYLIST\"]\n",
        "# @markdown ---\n",
        "# @markdown Fill only if DOWNLOAD_MODE is SINGLE\n",
        "DATA_URL = \"[master|playlist].json file url\"  # @param {type:\"string\"}\n",
        "OUTPUT_FILENAME = \"filename\" # @param {type:\"string\"}\n",
        "SAVE_TO_PC = False #@param {type:\"boolean\"}\n",
        "# @markdown ---\n",
        "\n",
        "data = []\n",
        "if DOWNLOAD_MODE == \"SINGLE\":\n",
        "  data.append((DATA_URL, OUTPUT_FILENAME, SAVE_TO_PC))\n",
        "else:\n",
        "  if not os.path.exists('data.txt'):\n",
        "    print('No data.txt provided. Exiting...')\n",
        "    sys.exit(1)\n",
        "  with open('data.txt', 'r') as file:\n",
        "    for i, line in enumerate(file.readlines(), start=1):\n",
        "      videoData = [arg.strip() for arg in line.split(';')]\n",
        "      if len(videoData) != 3 or videoData[0] == '' or videoData[1] == '' or videoData[2].capitalize() not in ['True', 'False']:\n",
        "        print('Incorrect syntax in line', i)\n",
        "        continue\n",
        "      videoData[2] = videoData[2].capitalize() == 'True'\n",
        "      data.append(tuple(videoData))\n",
        "\n",
        "for DATA_URL, OUTPUT_FILENAME, SAVE_TO_PC in data:\n",
        "  print(f\"Downloading {OUTPUT_FILENAME}...\")\n",
        "  downloader = VimeoDownloader(DATA_URL, OUTPUT_FILENAME)\n",
        "  downloader.download()\n",
        "  if SAVE_TO_PC:\n",
        "    downloader.save()\n",
        "\n",
        "# @markdown ####How to find the playlist.json?\n",
        "# @markdown #####Right click on the video > Inspect > Click on the Network tab > Play the video > Right click on \"playlist.json?omit=...\" > Copy the Request URL, something like this: vod-adaptive-ak.vimeocdn.com/exp=...\n",
        "\n",
        "\n",
        "#@markdown ---\n",
        "#@markdown #####Inspired by\n",
        "#@markdown ##### https://gist.github.com/alexeygrigorev/a1bc540925054b71e1a7268e50ad55cd?permalink_comment_id=5097364#gistcomment-5097364"
      ]
    }
  ]
}