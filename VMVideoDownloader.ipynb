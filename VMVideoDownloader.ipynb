{
  "nbformat": 4,
  "nbformat_minor": 0,
  "metadata": {
    "colab": {
      "provenance": []
    },
    "kernelspec": {
      "name": "python3",
      "display_name": "Python 3"
    },
    "language_info": {
      "name": "python"
    }
  },
  "cells": [
    {
      "cell_type": "code",
      "execution_count": 1,
      "metadata": {
        "id": "Ll8paJZvnj2j",
        "outputId": "70e22cfe-0698-47fb-df0c-6e41a7ab1122",
        "colab": {
          "base_uri": "https://localhost:8080/"
        }
      },
      "outputs": [
        {
          "output_type": "stream",
          "name": "stderr",
          "text": [
            "100%|██████████| 57/57 [00:17<00:00,  3.25it/s]\n",
            "100%|██████████| 57/57 [00:15<00:00,  3.79it/s]\n"
          ]
        },
        {
          "output_type": "stream",
          "name": "stdout",
          "text": [
            "\n"
          ]
        }
      ],
      "source": [
        "#@markdown <center><h3><h2>VM Video Downloader</h2>Download Vimeo videos easy v0.2</h3></center><br>\n",
        "\n",
        "#@markdown ---\n",
        "#@markdown ####Settings\n",
        "\n",
        "import os\n",
        "import sys\n",
        "import base64\n",
        "import requests\n",
        "import subprocess\n",
        "from google.colab import files\n",
        "\n",
        "from tqdm import tqdm\n",
        "\n",
        "class VimeoDownloader:\n",
        "  def __init__(self, url, filename):\n",
        "    if 'master.json' in url:\n",
        "      url = url[:url.find('?')] + '?query_string_ranges=1'\n",
        "      url = url.replace('master.json', 'master.mpd')\n",
        "    self.url = url\n",
        "    if not filename.endswith('.mp4'):\n",
        "      filename += '.mp4'\n",
        "    self.filename = filename\n",
        "  def save(self):\n",
        "    try:\n",
        "      files.download(self.filename)\n",
        "      print(\"If download does not start, download the file manually from the directory in the left corner.\")\n",
        "    except FileNotFoundError:\n",
        "      print(\"File not found!\")\n",
        "    except:\n",
        "      print(\"Something else went wrong, try download manually\")\n",
        "  def fetch(self, what, to, base):\n",
        "    with open(to, 'wb') as file:\n",
        "      init_segment = base64.b64decode(what['init_segment'])\n",
        "      file.write(init_segment)\n",
        "      for segment in tqdm(what['segments']):\n",
        "        segment_url = base + segment['url']\n",
        "        resp = requests.get(segment_url, stream=True)\n",
        "        if resp.status_code != 200:\n",
        "          print('Segment not found:', segment_url)\n",
        "          break\n",
        "        for chunk in resp:\n",
        "            file.write(chunk)\n",
        "  def download(self):\n",
        "    if 'master.mpd' in self.url:\n",
        "      subprocess.run(['youtube-dl', self.url, '-o', self.filename])\n",
        "      return\n",
        "    base_url = self.url[:self.url.rfind('/', 0, -26) + 1]\n",
        "    content = requests.get(self.url).json()\n",
        "    vid_heights = [(i, d['height']) for (i, d) in enumerate(content['video'])]\n",
        "    vid_idx, _ = max(vid_heights, key=lambda _h: _h[1])\n",
        "    audio_quality = [(i, d['bitrate']) for (i, d) in enumerate(content['audio'])]\n",
        "    audio_idx, _ = max(audio_quality, key=lambda _h: _h[1])\n",
        "    video = content['video'][vid_idx]\n",
        "    audio = content['audio'][audio_idx]\n",
        "    base_url = base_url + content['base_url']\n",
        "    video_tmp_file = 'video.mp4'\n",
        "    audio_tmp_file = 'audio.mp4'\n",
        "    self.fetch(video, video_tmp_file, base_url + video['base_url'])\n",
        "    self.fetch(audio, audio_tmp_file, base_url + audio['base_url'])\n",
        "    command = [\"ffmpeg\", \"-i\", audio_tmp_file, \"-i\", video_tmp_file, \"-c\", \"copy\", self.filename]\n",
        "    try:\n",
        "      result = subprocess.run(command, capture_output=True, text=True, check=True)\n",
        "      print(result.stdout)  # Exibe a saída do comando\n",
        "    except subprocess.CalledProcessError as e:\n",
        "      print(f\"Error: {e}\")\n",
        "      print(f\"Output error: {e.stderr}\")\n",
        "    os.remove(video_tmp_file)\n",
        "    os.remove(audio_tmp_file)\n",
        "\n",
        "\n",
        "\n",
        "url = \"https://vod-adaptive-ak.vimeocdn.com/exp=1727036534~acl=%2F692f58e4-b5dc-4f9b-8dcb-866da519ceda%2F%2A~hmac=b7f5b7fd14e71031406a33d415716896490c75af8fd1ba1b455b4873543ac14c/692f58e4-b5dc-4f9b-8dcb-866da519ceda/v2/playlist/av/primary/playlist.json?omit=av1-hevc&pathsig=8c953e4f~3uNjPUkou8dv0609dGLIjG1NQRcGyTD0bKeXgNLxEs0&rh=1cWAMv\"  # @param {type:\"string\"}\n",
        "file_name = \"temp\" # @param {type:\"string\"}\n",
        "download_to_pc = False #@param {type:\"boolean\"}\n",
        "#@markdown ---\n",
        "\n",
        "downloader = VimeoDownloader(url, file_name)\n",
        "downloader.download()\n",
        "if download_to_pc:\n",
        "  downloader.save()\n",
        "\n",
        "#@markdown ####How to find the playlist.json?\n",
        "#@markdown #####Right click on the video > Inspect > Click on the Network tab > Play the video > Right click on \"playlist.json?omit=...\" > Copy the Request URL, something like this: vod-adaptive-ak.vimeocdn.com/exp=...\n",
        "\n",
        "\n",
        "#@markdown ---\n",
        "#@markdown #####Inspired by\n",
        "#@markdown ##### https://gist.github.com/alexeygrigorev/a1bc540925054b71e1a7268e50ad55cd?permalink_comment_id=5097364#gistcomment-5097364"
      ]
    },
    {
      "cell_type": "code",
      "source": [
        "#@markdown ####Run this to download all downloaded videos\n",
        "#@markdown #####Use this only if you didn't marked \"download_to_pc\" option\n",
        "def download_all_mp4_files():\n",
        "    files_in_dir = os.listdir('.')\n",
        "    mp4_files = [f for f in files_in_dir if f.endswith('.mp4')]\n",
        "\n",
        "    for file_name in mp4_files:\n",
        "        files.download(file_name)\n",
        "        print(f\"Downloading {file_name}...\")\n",
        "\n",
        "download_all_mp4_files()"
      ],
      "metadata": {
        "id": "Bh6Q3u6AqU1v"
      },
      "execution_count": null,
      "outputs": []
    }
  ]
}