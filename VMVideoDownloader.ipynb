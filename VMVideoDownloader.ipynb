{
  "nbformat": 4,
  "nbformat_minor": 0,
  "metadata": {
    "colab": {
      "provenance": [],
      "authorship_tag": "ABX9TyMiE4+H+c22zCE/ADwvFEIJ",
      "include_colab_link": true
    },
    "kernelspec": {
      "name": "python3",
      "display_name": "Python 3"
    },
    "language_info": {
      "name": "python"
    }
  },
  "cells": [
    {
      "cell_type": "markdown",
      "metadata": {
        "id": "view-in-github",
        "colab_type": "text"
      },
      "source": [
        "<a href=\"https://colab.research.google.com/github/limontec/vm-video-downloader/blob/main/VMVideoDownloader.ipynb\" target=\"_parent\"><img src=\"https://colab.research.google.com/assets/colab-badge.svg\" alt=\"Open In Colab\"/></a>"
      ]
    },
    {
      "cell_type": "code",
      "execution_count": null,
      "metadata": {
        "id": "Ll8paJZvnj2j"
      },
      "outputs": [],
      "source": [
        "#@markdown <center><h3><h2>VM Video Downloader</h2>Download Vimeo videos easy v0.1</h3></center><br>\n",
        "\n",
        "#@markdown ---\n",
        "#@markdown ####Settings\n",
        "\n",
        "import os\n",
        "import sys\n",
        "import base64\n",
        "import requests\n",
        "import subprocess\n",
        "from google.colab import files\n",
        "\n",
        "from tqdm import tqdm\n",
        "#from moviepy.editor import *\n",
        "url = \"Type the [master|playlist].json url\"  # @param {type:\"string\"}\n",
        "file_name = \"output1\" # @param {type:\"string\"}\n",
        "download_to_pc = True #@param {type:\"boolean\"}\n",
        "#@markdown ---\n",
        "if 'master.json' in url:\n",
        "    url = url[:url.find('?')] + '?query_string_ranges=1'\n",
        "    url = url.replace('master.json', 'master.mpd')\n",
        "    print(url)\n",
        "    subprocess.run(['youtube-dl', url, '-o', file_name])\n",
        "    sys.exit(0)\n",
        "\n",
        "def downloadFile():\n",
        "  try:\n",
        "    files.download(file_name)\n",
        "    print(\"If download does not start, download the file manually from the directory in the left corner.\")\n",
        "  except FileNotFoundError:\n",
        "    print(\"File not found!\")\n",
        "  except:\n",
        "    print(\"Something else went wrong, try download manually\")\n",
        "\n",
        "def download(what, to, base):\n",
        "    print('saving', what['mime_type'], 'to', to)\n",
        "    with open(to, 'wb') as file:\n",
        "        init_segment = base64.b64decode(what['init_segment'])\n",
        "        file.write(init_segment)\n",
        "\n",
        "        for segment in tqdm(what['segments']):\n",
        "            segment_url = base + segment['url']\n",
        "            resp = requests.get(segment_url, stream=True)\n",
        "            if resp.status_code != 200:\n",
        "                print('not 200!')\n",
        "                print(segment_url)\n",
        "                break\n",
        "            for chunk in resp:\n",
        "                file.write(chunk)\n",
        "    print('done')\n",
        "\n",
        "\n",
        "file_name += '.mp4'\n",
        "base_url = url[:url.rfind('/', 0, -26) + 1]\n",
        "content = requests.get(url).json()\n",
        "\n",
        "vid_heights = [(i, d['height']) for (i, d) in enumerate(content['video'])]\n",
        "vid_idx, _ = max(vid_heights, key=lambda _h: _h[1])\n",
        "\n",
        "audio_quality = [(i, d['bitrate']) for (i, d) in enumerate(content['audio'])]\n",
        "audio_idx, _ = max(audio_quality, key=lambda _h: _h[1])\n",
        "\n",
        "video = content['video'][vid_idx]\n",
        "audio = content['audio'][audio_idx]\n",
        "base_url = base_url + content['base_url']\n",
        "\n",
        "video_tmp_file = 'video.mp4'\n",
        "audio_tmp_file = 'audio.mp4'\n",
        "\n",
        "download(video, video_tmp_file, base_url + video['base_url'])\n",
        "download(audio, audio_tmp_file, base_url + audio['base_url'])\n",
        "\n",
        "command = [\"ffmpeg\", \"-i\", audio_tmp_file, \"-i\", video_tmp_file, \"-c\", \"copy\", file_name]\n",
        "\n",
        "try:\n",
        "    result = subprocess.run(command, capture_output=True, text=True, check=True)\n",
        "    print(result.stdout)  # Exibe a saída do comando\n",
        "except subprocess.CalledProcessError as e:\n",
        "    print(f\"Error: {e}\")\n",
        "    print(f\"Output error: {e.stderr}\")\n",
        "\n",
        "if(download_to_pc):\n",
        "    downloadFile()\n",
        "\n",
        "os.remove(video_tmp_file)\n",
        "os.remove(audio_tmp_file)\n",
        "\n",
        "#@markdown ####How to find the playlist.json?\n",
        "#@markdown #####Right click on the video > Inspect > Click on the Network tab > Play the video > Right click on \"playlist.json?omit=...\" > Copy the Request URL, something like this: vod-adaptive-ak.vimeocdn.com/exp=...\n",
        "\n",
        "\n",
        "#@markdown ---\n",
        "#@markdown #####Inspired by\n",
        "#@markdown ##### https://gist.github.com/alexeygrigorev/a1bc540925054b71e1a7268e50ad55cd?permalink_comment_id=5097364#gistcomment-5097364"
      ]
    },
    {
      "cell_type": "code",
      "source": [
        "#@markdown ####Run this to download all downloaded videos\n",
        "#@markdown #####Use this only if you didn't marked \"download_to_pc\" option\n",
        "def download_all_mp4_files():\n",
        "    files_in_dir = os.listdir('.')\n",
        "    mp4_files = [f for f in files_in_dir if f.endswith('.mp4')]\n",
        "\n",
        "    for file_name in mp4_files:\n",
        "        files.download(file_name)\n",
        "        print(f\"Downloading {file_name}...\")\n",
        "\n",
        "download_all_mp4_files()"
      ],
      "metadata": {
        "id": "Bh6Q3u6AqU1v"
      },
      "execution_count": null,
      "outputs": []
    }
  ]
}